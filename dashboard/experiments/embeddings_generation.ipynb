{
 "cells": [
  {
   "cell_type": "code",
   "execution_count": 25,
   "metadata": {},
   "outputs": [],
   "source": [
    "uk_parameter_embeddings = pd.read_csv(\n",
    "    \"parameter_embeddings.csv.gz\", compression=\"gzip\"\n",
    ")\n",
    "us_parameter_embeddings = pd.read_csv(\n",
    "    \"us_parameter_embeddings.csv.gz\", compression=\"gzip\"\n",
    ")"
   ]
  },
  {
   "cell_type": "code",
   "execution_count": 26,
   "metadata": {},
   "outputs": [],
   "source": [
    "uk_parameter_embeddings[\"country_id\"] = \"uk\"\n",
    "us_parameter_embeddings[\"country_id\"] = \"us\"\n",
    "parameter_embeddings = pd.concat(\n",
    "    [uk_parameter_embeddings, us_parameter_embeddings]\n",
    ")"
   ]
  },
  {
   "cell_type": "code",
   "execution_count": 31,
   "metadata": {},
   "outputs": [
    {
     "data": {
      "text/html": [
       "<div>\n",
       "<style scoped>\n",
       "    .dataframe tbody tr th:only-of-type {\n",
       "        vertical-align: middle;\n",
       "    }\n",
       "\n",
       "    .dataframe tbody tr th {\n",
       "        vertical-align: top;\n",
       "    }\n",
       "\n",
       "    .dataframe thead th {\n",
       "        text-align: right;\n",
       "    }\n",
       "</style>\n",
       "<table border=\"1\" class=\"dataframe\">\n",
       "  <thead>\n",
       "    <tr style=\"text-align: right;\">\n",
       "      <th></th>\n",
       "      <th>name</th>\n",
       "      <th>json</th>\n",
       "      <th>parameter_embedding</th>\n",
       "      <th>country_id</th>\n",
       "    </tr>\n",
       "  </thead>\n",
       "  <tbody>\n",
       "    <tr>\n",
       "      <th>0</th>\n",
       "      <td>gov.abolitions.AFCS</td>\n",
       "      <td>{\"description\": \"Set all values of Armed Force...</td>\n",
       "      <td>[-0.015623585321009159, 0.01033217553049326, -...</td>\n",
       "      <td>uk</td>\n",
       "    </tr>\n",
       "    <tr>\n",
       "      <th>1</th>\n",
       "      <td>gov.abolitions.BRMA_LHA_rate</td>\n",
       "      <td>{\"description\": \"Set all values of LHA rate to...</td>\n",
       "      <td>[-0.01876787841320038, 0.020921112969517708, -...</td>\n",
       "      <td>uk</td>\n",
       "    </tr>\n",
       "    <tr>\n",
       "      <th>2</th>\n",
       "      <td>gov.abolitions.BSP</td>\n",
       "      <td>{\"description\": \"Set all values of Bereavement...</td>\n",
       "      <td>[-0.018847180530428886, 0.019526733085513115, ...</td>\n",
       "      <td>uk</td>\n",
       "    </tr>\n",
       "    <tr>\n",
       "      <th>3</th>\n",
       "      <td>gov.abolitions.CB_HITC</td>\n",
       "      <td>{\"description\": \"Set all values of Child Benef...</td>\n",
       "      <td>[-0.024208562448620796, -0.0014698549639433622...</td>\n",
       "      <td>uk</td>\n",
       "    </tr>\n",
       "    <tr>\n",
       "      <th>4</th>\n",
       "      <td>gov.abolitions.CTC_child_element</td>\n",
       "      <td>{\"description\": \"Set all values of Child Tax C...</td>\n",
       "      <td>[-0.017787203192710876, 0.01393031980842352, -...</td>\n",
       "      <td>uk</td>\n",
       "    </tr>\n",
       "    <tr>\n",
       "      <th>...</th>\n",
       "      <td>...</td>\n",
       "      <td>...</td>\n",
       "      <td>...</td>\n",
       "      <td>...</td>\n",
       "    </tr>\n",
       "    <tr>\n",
       "      <th>12536</th>\n",
       "      <td>gov.usda.wic.value.POSTPARTUM</td>\n",
       "      <td>{\"description\": null, \"economy\": true, \"househ...</td>\n",
       "      <td>[0.004392489790916443, 0.0014703974593430758, ...</td>\n",
       "      <td>us</td>\n",
       "    </tr>\n",
       "    <tr>\n",
       "      <th>12537</th>\n",
       "      <td>gov.usda.wic.value.PREGNANT</td>\n",
       "      <td>{\"description\": null, \"economy\": true, \"househ...</td>\n",
       "      <td>[0.001542273093946278, -0.002406371058896184, ...</td>\n",
       "      <td>us</td>\n",
       "    </tr>\n",
       "    <tr>\n",
       "      <th>12538</th>\n",
       "      <td>gov.usda.wic.value.V</td>\n",
       "      <td>{\"description\": null, \"economy\": true, \"househ...</td>\n",
       "      <td>[-0.0031873411498963833, -0.012630472891032696...</td>\n",
       "      <td>us</td>\n",
       "    </tr>\n",
       "    <tr>\n",
       "      <th>12539</th>\n",
       "      <td>gov.usda.wic.value.VI</td>\n",
       "      <td>{\"description\": null, \"economy\": true, \"househ...</td>\n",
       "      <td>[-0.003992681857198477, -0.01098596677184105, ...</td>\n",
       "      <td>us</td>\n",
       "    </tr>\n",
       "    <tr>\n",
       "      <th>12540</th>\n",
       "      <td>gov.usda.wic.value.VII</td>\n",
       "      <td>{\"description\": null, \"economy\": true, \"househ...</td>\n",
       "      <td>[-0.0008749912376515567, -0.012107416056096554...</td>\n",
       "      <td>us</td>\n",
       "    </tr>\n",
       "  </tbody>\n",
       "</table>\n",
       "<p>14267 rows × 4 columns</p>\n",
       "</div>"
      ],
      "text/plain": [
       "                                   name  \\\n",
       "0                   gov.abolitions.AFCS   \n",
       "1          gov.abolitions.BRMA_LHA_rate   \n",
       "2                    gov.abolitions.BSP   \n",
       "3                gov.abolitions.CB_HITC   \n",
       "4      gov.abolitions.CTC_child_element   \n",
       "...                                 ...   \n",
       "12536     gov.usda.wic.value.POSTPARTUM   \n",
       "12537       gov.usda.wic.value.PREGNANT   \n",
       "12538              gov.usda.wic.value.V   \n",
       "12539             gov.usda.wic.value.VI   \n",
       "12540            gov.usda.wic.value.VII   \n",
       "\n",
       "                                                    json  \\\n",
       "0      {\"description\": \"Set all values of Armed Force...   \n",
       "1      {\"description\": \"Set all values of LHA rate to...   \n",
       "2      {\"description\": \"Set all values of Bereavement...   \n",
       "3      {\"description\": \"Set all values of Child Benef...   \n",
       "4      {\"description\": \"Set all values of Child Tax C...   \n",
       "...                                                  ...   \n",
       "12536  {\"description\": null, \"economy\": true, \"househ...   \n",
       "12537  {\"description\": null, \"economy\": true, \"househ...   \n",
       "12538  {\"description\": null, \"economy\": true, \"househ...   \n",
       "12539  {\"description\": null, \"economy\": true, \"househ...   \n",
       "12540  {\"description\": null, \"economy\": true, \"househ...   \n",
       "\n",
       "                                     parameter_embedding country_id  \n",
       "0      [-0.015623585321009159, 0.01033217553049326, -...         uk  \n",
       "1      [-0.01876787841320038, 0.020921112969517708, -...         uk  \n",
       "2      [-0.018847180530428886, 0.019526733085513115, ...         uk  \n",
       "3      [-0.024208562448620796, -0.0014698549639433622...         uk  \n",
       "4      [-0.017787203192710876, 0.01393031980842352, -...         uk  \n",
       "...                                                  ...        ...  \n",
       "12536  [0.004392489790916443, 0.0014703974593430758, ...         us  \n",
       "12537  [0.001542273093946278, -0.002406371058896184, ...         us  \n",
       "12538  [-0.0031873411498963833, -0.012630472891032696...         us  \n",
       "12539  [-0.003992681857198477, -0.01098596677184105, ...         us  \n",
       "12540  [-0.0008749912376515567, -0.012107416056096554...         us  \n",
       "\n",
       "[14267 rows x 4 columns]"
      ]
     },
     "execution_count": 31,
     "metadata": {},
     "output_type": "execute_result"
    }
   ],
   "source": [
    "parameter_embeddings"
   ]
  },
  {
   "cell_type": "code",
   "execution_count": 30,
   "metadata": {},
   "outputs": [],
   "source": [
    "parameter_embeddings.to_csv(\n",
    "    \"param_embeddings.csv.gz\", compression=\"gzip\", index=False\n",
    ")"
   ]
  },
  {
   "cell_type": "code",
   "execution_count": 22,
   "metadata": {},
   "outputs": [],
   "source": [
    "import requests\n",
    "\n",
    "metadata = requests.get(\n",
    "    \"https://api.policyengine.org/uk/economy/8985/over/1?time_period=2023&region=uk\"\n",
    ").json()"
   ]
  },
  {
   "cell_type": "code",
   "execution_count": 24,
   "metadata": {},
   "outputs": [
    {
     "data": {
      "text/plain": [
       "dict_keys(['budget', 'decile', 'inequality', 'intra_decile', 'intra_wealth_decile', 'poverty', 'poverty_by_gender', 'wealth_decile'])"
      ]
     },
     "execution_count": 24,
     "metadata": {},
     "output_type": "execute_result"
    }
   ],
   "source": [
    "metadata[\"result\"].keys()"
   ]
  },
  {
   "cell_type": "code",
   "execution_count": 3,
   "metadata": {},
   "outputs": [
    {
     "data": {
      "text/plain": [
       "12541"
      ]
     },
     "execution_count": 3,
     "metadata": {},
     "output_type": "execute_result"
    }
   ],
   "source": [
    "parameters = list(metadata[\"result\"][\"parameters\"].values())\n",
    "parameters = [p for p in parameters if p[\"type\"] == \"parameter\"]\n",
    "len(parameters)"
   ]
  },
  {
   "cell_type": "code",
   "execution_count": 4,
   "metadata": {},
   "outputs": [
    {
     "name": "stderr",
     "output_type": "stream",
     "text": [
      "12541it [48:41,  4.29it/s]\n"
     ]
    }
   ],
   "source": [
    "from openai.embeddings_utils import get_embedding, cosine_similarity\n",
    "import pandas as pd\n",
    "import json\n",
    "from tqdm import tqdm\n",
    "\n",
    "parameters = list(metadata[\"result\"][\"parameters\"].values())\n",
    "parameters = [p for p in parameters if p[\"type\"] == \"parameter\"]\n",
    "\n",
    "df = pd.DataFrame(\n",
    "    {\n",
    "        \"name\": [p[\"parameter\"] for p in parameters],\n",
    "        \"json\": [json.dumps(p) for p in parameters],\n",
    "    }\n",
    ")\n",
    "\n",
    "_embed = []\n",
    "\n",
    "for i, row in tqdm(df.iterrows()):\n",
    "    _embed.append(get_embedding(row[\"json\"], engine=\"text-embedding-ada-002\"))\n",
    "\n",
    "df[\"parameter_embedding\"] = _embed"
   ]
  },
  {
   "cell_type": "code",
   "execution_count": 5,
   "metadata": {},
   "outputs": [],
   "source": [
    "df.to_csv(\"us_parameter_embeddings.csv.gz\", compression=\"gzip\")"
   ]
  },
  {
   "cell_type": "code",
   "execution_count": 6,
   "metadata": {},
   "outputs": [
    {
     "data": {
      "text/html": [
       "<div>\n",
       "<style scoped>\n",
       "    .dataframe tbody tr th:only-of-type {\n",
       "        vertical-align: middle;\n",
       "    }\n",
       "\n",
       "    .dataframe tbody tr th {\n",
       "        vertical-align: top;\n",
       "    }\n",
       "\n",
       "    .dataframe thead th {\n",
       "        text-align: right;\n",
       "    }\n",
       "</style>\n",
       "<table border=\"1\" class=\"dataframe\">\n",
       "  <thead>\n",
       "    <tr style=\"text-align: right;\">\n",
       "      <th></th>\n",
       "      <th>name</th>\n",
       "      <th>json</th>\n",
       "      <th>parameter_embedding</th>\n",
       "    </tr>\n",
       "  </thead>\n",
       "  <tbody>\n",
       "    <tr>\n",
       "      <th>0</th>\n",
       "      <td>gov.abolitions.above_the_line_deductions</td>\n",
       "      <td>{\"description\": \"Set all values of Above-the-l...</td>\n",
       "      <td>[-0.02203972451388836, 0.008916514925658703, -...</td>\n",
       "    </tr>\n",
       "    <tr>\n",
       "      <th>1</th>\n",
       "      <td>gov.abolitions.acp</td>\n",
       "      <td>{\"description\": \"Set all values of Affordable ...</td>\n",
       "      <td>[-0.019803417846560478, 0.010326764546334743, ...</td>\n",
       "    </tr>\n",
       "    <tr>\n",
       "      <th>2</th>\n",
       "      <td>gov.abolitions.additional_medicare_tax</td>\n",
       "      <td>{\"description\": \"Set all values of Additional ...</td>\n",
       "      <td>[-0.025863468647003174, 0.0024864787701517344,...</td>\n",
       "    </tr>\n",
       "    <tr>\n",
       "      <th>3</th>\n",
       "      <td>gov.abolitions.additional_standard_deduction</td>\n",
       "      <td>{\"description\": \"Set all values of Additional ...</td>\n",
       "      <td>[-0.02105577662587166, 0.01149937603622675, 0....</td>\n",
       "    </tr>\n",
       "    <tr>\n",
       "      <th>4</th>\n",
       "      <td>gov.abolitions.adjusted_gross_income</td>\n",
       "      <td>{\"description\": \"Set all values of Adjusted gr...</td>\n",
       "      <td>[-0.0256198663264513, 0.0009419068228453398, -...</td>\n",
       "    </tr>\n",
       "    <tr>\n",
       "      <th>...</th>\n",
       "      <td>...</td>\n",
       "      <td>...</td>\n",
       "      <td>...</td>\n",
       "    </tr>\n",
       "    <tr>\n",
       "      <th>12536</th>\n",
       "      <td>gov.usda.wic.value.POSTPARTUM</td>\n",
       "      <td>{\"description\": null, \"economy\": true, \"househ...</td>\n",
       "      <td>[0.004392489790916443, 0.0014703974593430758, ...</td>\n",
       "    </tr>\n",
       "    <tr>\n",
       "      <th>12537</th>\n",
       "      <td>gov.usda.wic.value.PREGNANT</td>\n",
       "      <td>{\"description\": null, \"economy\": true, \"househ...</td>\n",
       "      <td>[0.001542273093946278, -0.002406371058896184, ...</td>\n",
       "    </tr>\n",
       "    <tr>\n",
       "      <th>12538</th>\n",
       "      <td>gov.usda.wic.value.V</td>\n",
       "      <td>{\"description\": null, \"economy\": true, \"househ...</td>\n",
       "      <td>[-0.0031873411498963833, -0.012630472891032696...</td>\n",
       "    </tr>\n",
       "    <tr>\n",
       "      <th>12539</th>\n",
       "      <td>gov.usda.wic.value.VI</td>\n",
       "      <td>{\"description\": null, \"economy\": true, \"househ...</td>\n",
       "      <td>[-0.003992681857198477, -0.01098596677184105, ...</td>\n",
       "    </tr>\n",
       "    <tr>\n",
       "      <th>12540</th>\n",
       "      <td>gov.usda.wic.value.VII</td>\n",
       "      <td>{\"description\": null, \"economy\": true, \"househ...</td>\n",
       "      <td>[-0.0008749912376515567, -0.012107416056096554...</td>\n",
       "    </tr>\n",
       "  </tbody>\n",
       "</table>\n",
       "<p>12541 rows × 3 columns</p>\n",
       "</div>"
      ],
      "text/plain": [
       "                                               name  \\\n",
       "0          gov.abolitions.above_the_line_deductions   \n",
       "1                                gov.abolitions.acp   \n",
       "2            gov.abolitions.additional_medicare_tax   \n",
       "3      gov.abolitions.additional_standard_deduction   \n",
       "4              gov.abolitions.adjusted_gross_income   \n",
       "...                                             ...   \n",
       "12536                 gov.usda.wic.value.POSTPARTUM   \n",
       "12537                   gov.usda.wic.value.PREGNANT   \n",
       "12538                          gov.usda.wic.value.V   \n",
       "12539                         gov.usda.wic.value.VI   \n",
       "12540                        gov.usda.wic.value.VII   \n",
       "\n",
       "                                                    json  \\\n",
       "0      {\"description\": \"Set all values of Above-the-l...   \n",
       "1      {\"description\": \"Set all values of Affordable ...   \n",
       "2      {\"description\": \"Set all values of Additional ...   \n",
       "3      {\"description\": \"Set all values of Additional ...   \n",
       "4      {\"description\": \"Set all values of Adjusted gr...   \n",
       "...                                                  ...   \n",
       "12536  {\"description\": null, \"economy\": true, \"househ...   \n",
       "12537  {\"description\": null, \"economy\": true, \"househ...   \n",
       "12538  {\"description\": null, \"economy\": true, \"househ...   \n",
       "12539  {\"description\": null, \"economy\": true, \"househ...   \n",
       "12540  {\"description\": null, \"economy\": true, \"househ...   \n",
       "\n",
       "                                     parameter_embedding  \n",
       "0      [-0.02203972451388836, 0.008916514925658703, -...  \n",
       "1      [-0.019803417846560478, 0.010326764546334743, ...  \n",
       "2      [-0.025863468647003174, 0.0024864787701517344,...  \n",
       "3      [-0.02105577662587166, 0.01149937603622675, 0....  \n",
       "4      [-0.0256198663264513, 0.0009419068228453398, -...  \n",
       "...                                                  ...  \n",
       "12536  [0.004392489790916443, 0.0014703974593430758, ...  \n",
       "12537  [0.001542273093946278, -0.002406371058896184, ...  \n",
       "12538  [-0.0031873411498963833, -0.012630472891032696...  \n",
       "12539  [-0.003992681857198477, -0.01098596677184105, ...  \n",
       "12540  [-0.0008749912376515567, -0.012107416056096554...  \n",
       "\n",
       "[12541 rows x 3 columns]"
      ]
     },
     "execution_count": 6,
     "metadata": {},
     "output_type": "execute_result"
    }
   ],
   "source": [
    "df"
   ]
  },
  {
   "cell_type": "code",
   "execution_count": 7,
   "metadata": {},
   "outputs": [],
   "source": [
    "def search_functions(df, param_query, n=3, pprint=True, n_lines=7):\n",
    "    embedding = get_embedding(param_query, engine=\"text-embedding-ada-002\")\n",
    "    df[\"similarities\"] = df.parameter_embedding.apply(\n",
    "        lambda x: cosine_similarity(x, embedding)\n",
    "    )\n",
    "\n",
    "    res = df.sort_values(\"similarities\", ascending=False).head(n)\n",
    "    return res"
   ]
  },
  {
   "cell_type": "code",
   "execution_count": 8,
   "metadata": {},
   "outputs": [],
   "source": [
    "def get_parameter(description):\n",
    "    res = search_functions(df, description, n=1)\n",
    "    return res.iloc[0].json"
   ]
  },
  {
   "cell_type": "code",
   "execution_count": 9,
   "metadata": {},
   "outputs": [
    {
     "data": {
      "text/plain": [
       "'{\"description\": \"The IRS makes the Child Tax Credit fully refundable if this is true.\", \"economy\": true, \"household\": true, \"label\": \"Fully refundable CTC\", \"parameter\": \"gov.irs.credits.ctc.refundable.fully_refundable\", \"period\": null, \"type\": \"parameter\", \"unit\": \"bool\", \"values\": {\"2013-01-01\": false, \"2021-01-01\": true, \"2022-01-01\": false}}'"
      ]
     },
     "execution_count": 9,
     "metadata": {},
     "output_type": "execute_result"
    }
   ],
   "source": [
    "get_parameter(\"make the ctc refundable\")"
   ]
  }
 ],
 "metadata": {
  "kernelspec": {
   "display_name": "base",
   "language": "python",
   "name": "python3"
  },
  "language_info": {
   "codemirror_mode": {
    "name": "ipython",
    "version": 3
   },
   "file_extension": ".py",
   "mimetype": "text/x-python",
   "name": "python",
   "nbconvert_exporter": "python",
   "pygments_lexer": "ipython3",
   "version": "3.9.12"
  },
  "orig_nbformat": 4
 },
 "nbformat": 4,
 "nbformat_minor": 2
}
