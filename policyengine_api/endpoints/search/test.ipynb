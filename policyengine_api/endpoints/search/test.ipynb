{
 "cells": [
  {
   "cell_type": "code",
   "execution_count": 63,
   "metadata": {},
   "outputs": [],
   "source": [
    "import requests\n",
    "import pandas as pd\n",
    "import json\n",
    "from tqdm import tqdm\n",
    "import numpy as np\n",
    "from pathlib import Path\n",
    "import h5py\n",
    "\n",
    "from sentence_transformers import SentenceTransformer\n",
    "\n",
    "model = SentenceTransformer(\"sentence-transformers/all-MiniLM-L6-v2\")\n",
    "folder = Path(\".\")\n",
    "\n",
    "COUNTRIES = [\"uk\"]\n",
    "\n",
    "def get_embedding(text):\n",
    "    # Use Huggingface model to get embeddings\n",
    "    return model.encode(text)\n",
    "\n",
    "metadata_df = pd.read_csv(folder / \"metadata.csv.gz\", compression=\"gzip\")\n",
    "folder = Path(\".\")\n",
    "\n",
    "metadata_df[[\"name\", \"country_id\", \"type\"]].to_csv(\"metadata.csv.gz\", index=False, compression=\"gzip\")\n",
    "\n",
    "with h5py.File(\"embeddings.h5\", \"r\") as f:\n",
    "    embeddings = f[\"embeddings\"][:]\n",
    "\n",
    "metadata_df[\"embedding\"] = embeddings.tolist()\n",
    "\n",
    "embedding_dimensions = len(embeddings[0])\n",
    "\n",
    "# Use FAISS to create an index\n",
    "\n",
    "import faiss\n",
    "\n",
    "index_names = [\n",
    "    \"uk_parameters\",\n",
    "    \"uk_variables\",\n",
    "    #\"us_parameters\",\n",
    "    #\"us_variables\",\n",
    "]\n",
    "\n",
    "indexes = {\n",
    "    name: faiss.IndexFlatL2(embedding_dimensions)\n",
    "    for name in index_names\n",
    "}\n",
    "\n",
    "names = {\n",
    "    name: []\n",
    "    for name in index_names\n",
    "}\n",
    "\n",
    "for metadata_type in [\"parameter\", \"variable\"]:\n",
    "    for country_id in COUNTRIES:\n",
    "        name = f\"{country_id}_{metadata_type}s\"\n",
    "        index = indexes[name]\n",
    "        metadata = metadata_df[(metadata_df[\"type\"] == metadata_type) * (metadata_df[\"country_id\"] == country_id)]\n",
    "        embeddings = np.array(metadata[\"embedding\"].tolist()).reshape(-1, embedding_dimensions)\n",
    "        index.add(embeddings)\n",
    "        names[name] = metadata[\"name\"].tolist()\n",
    "\n",
    "def search(query, index_name, k=10):\n",
    "    embedding = get_embedding(query)\n",
    "    index = indexes[index_name]\n",
    "    distances, indices = index.search(np.array([embedding]), k)\n",
    "    return [names[index_name][i] for i in indices[0]]"
   ]
  },
  {
   "cell_type": "code",
   "execution_count": 64,
   "metadata": {},
   "outputs": [
    {
     "data": {
      "text/plain": [
       "['gov.hmrc.income_tax.rates.uk[0].rate',\n",
       " 'gov.hmrc.income_tax.rates.dividends[0].rate',\n",
       " 'gov.hmrc.stamp_duty.residential.purchase.main.subsequent[0].rate',\n",
       " 'gov.hmrc.stamp_duty.residential.purchase.main.first.rate[0].rate',\n",
       " 'gov.wra.land_transaction_tax.residential.primary[0].rate',\n",
       " 'gov.revenue_scotland.lbtt.non_residential[0].rate',\n",
       " 'gov.hmrc.stamp_duty.non_residential.purchase[0].rate',\n",
       " 'gov.wra.land_transaction_tax.non_residential[0].rate',\n",
       " 'gov.revenue_scotland.lbtt.residential.first_time_buyer_rate[0].rate',\n",
       " 'gov.hmrc.stamp_duty.residential.purchase.main.first.rate[1].rate']"
      ]
     },
     "execution_count": 64,
     "metadata": {},
     "output_type": "execute_result"
    }
   ],
   "source": [
    "search(\"basic rate\", \"uk_parameters\")"
   ]
  }
 ],
 "metadata": {
  "kernelspec": {
   "display_name": "base",
   "language": "python",
   "name": "python3"
  },
  "language_info": {
   "codemirror_mode": {
    "name": "ipython",
    "version": 3
   },
   "file_extension": ".py",
   "mimetype": "text/x-python",
   "name": "python",
   "nbconvert_exporter": "python",
   "pygments_lexer": "ipython3",
   "version": "3.9.12"
  },
  "orig_nbformat": 4
 },
 "nbformat": 4,
 "nbformat_minor": 2
}
