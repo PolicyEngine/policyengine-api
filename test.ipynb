{
 "cells": [
  {
   "cell_type": "code",
   "execution_count": 1,
   "metadata": {},
   "outputs": [],
   "source": [
    "import os\n",
    "\n",
    "os.environ['POLICYENGINE_DB_PASSWORD'] = \"bokwen-4fedhu-disfIj\""
   ]
  },
  {
   "cell_type": "code",
   "execution_count": null,
   "metadata": {},
   "outputs": [],
   "source": [
    "from policyengine_us import Microsimulation\n",
    "from policyengine_core.reforms import Reform\n",
    "\n",
    "reform = Reform.from_dict({\n",
    "  \"gov.irs.credits.eitc.max[0].amount\": {\n",
    "    \"2024-01-01.2100-12-31\": 95000\n",
    "  }\n",
    "}, country_id=\"us\")\n",
    "\n",
    "\n",
    "baseline = Microsimulation(dataset=\"enhanced_cps_2022\")\n",
    "reformed = Microsimulation(reform=reform, dataset=\"enhanced_cps_2022\")\n",
    "baseline_person = baseline.calculate(\"household_net_income\", period=2024, map_to=\"person\")\n",
    "reformed_person = reformed.calculate(\"household_net_income\", period=2024, map_to=\"person\")\n"
   ]
  }
 ],
 "metadata": {
  "kernelspec": {
   "display_name": "test-pkg-api",
   "language": "python",
   "name": "python3"
  },
  "language_info": {
   "codemirror_mode": {
    "name": "ipython",
    "version": 3
   },
   "file_extension": ".py",
   "mimetype": "text/x-python",
   "name": "python",
   "nbconvert_exporter": "python",
   "pygments_lexer": "ipython3",
   "version": "3.10.14"
  }
 },
 "nbformat": 4,
 "nbformat_minor": 2
}
