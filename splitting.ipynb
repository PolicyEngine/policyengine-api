{
 "cells": [
  {
   "cell_type": "code",
   "execution_count": 1,
   "metadata": {},
   "outputs": [
    {
     "name": "stderr",
     "output_type": "stream",
     "text": [
      "100%|██████████| 5/5 [00:16<00:00,  3.25s/it]\n"
     ]
    },
    {
     "data": {
      "text/plain": [
       "               value       weight\n",
       "0       40366.988281   615.080688\n",
       "1       51688.554688  1595.025757\n",
       "2       15619.054688   593.639709\n",
       "3       20304.685547  1527.942261\n",
       "4        4490.224609  1555.630493\n",
       "...              ...          ...\n",
       "56246   38931.617188   406.693298\n",
       "56247   52792.472656   717.275391\n",
       "56248    6511.081055   592.954590\n",
       "56249  127794.601562   391.826752\n",
       "56250  126043.585938   731.477356\n",
       "\n",
       "[56251 rows x 2 columns]"
      ]
     },
     "execution_count": 1,
     "metadata": {},
     "output_type": "execute_result"
    }
   ],
   "source": [
    "from policyengine_us import Microsimulation\n",
    "from tqdm import tqdm\n",
    "import numpy as np\n",
    "\n",
    "CHUNKS = 5\n",
    "\n",
    "sim = Microsimulation()\n",
    "\n",
    "households = sim.calculate(\"household_id\", 2024).values\n",
    "chunk_size = len(households) // CHUNKS + 1\n",
    "input_df = sim.to_input_dataframe()\n",
    "\n",
    "VARIABLES = [\n",
    "    (\"household_net_income\", 2025),\n",
    "]\n",
    "\n",
    "variable_data = {variable: np.array([]) for variable, time_period in VARIABLES}\n",
    "\n",
    "for i in tqdm(range(CHUNKS)):\n",
    "    households_in_chunk = households[i * chunk_size : (i + 1) * chunk_size]\n",
    "    chunk_df = input_df[\n",
    "        input_df[\"household_id__2024\"].isin(households_in_chunk)\n",
    "    ]\n",
    "\n",
    "    subset_sim = Microsimulation(dataset=chunk_df)\n",
    "\n",
    "    for variable, time_period in VARIABLES:\n",
    "        chunk_values = subset_sim.calculate(variable, time_period).values\n",
    "        variable_data[variable] = np.concatenate(\n",
    "            [variable_data[variable], chunk_values]\n",
    "        )\n",
    "\n",
    "for variable, time_period in VARIABLES:\n",
    "    sim.set_input(variable, time_period, variable_data[variable])\n",
    "\n",
    "sim.calculate(\"household_net_income\", 2025)"
   ]
  },
  {
   "cell_type": "code",
   "execution_count": 2,
   "metadata": {},
   "outputs": [],
   "source": [
    "from time import time\n",
    "\n",
    "\n",
    "def calc_chunks(count_chunks=1):\n",
    "    print(f\"CHUNKS: {count_chunks}\")\n",
    "    start = time()\n",
    "    sim = Microsimulation()\n",
    "\n",
    "    if count_chunks > 1:\n",
    "        households = sim.calculate(\"household_id\", 2024).values\n",
    "        chunk_size = len(households) // count_chunks + 1\n",
    "        input_df = sim.to_input_dataframe()\n",
    "\n",
    "        VARIABLES = [\n",
    "            (\"household_net_income\", 2025),\n",
    "        ]\n",
    "\n",
    "        variable_data = {\n",
    "            variable: np.array([]) for variable, time_period in VARIABLES\n",
    "        }\n",
    "\n",
    "        for i in tqdm(range(count_chunks)):\n",
    "            households_in_chunk = households[\n",
    "                i * chunk_size : (i + 1) * chunk_size\n",
    "            ]\n",
    "            chunk_df = input_df[\n",
    "                input_df[\"household_id__2024\"].isin(households_in_chunk)\n",
    "            ]\n",
    "\n",
    "            subset_sim = Microsimulation(dataset=chunk_df)\n",
    "\n",
    "            for variable, time_period in VARIABLES:\n",
    "                chunk_values = subset_sim.calculate(\n",
    "                    variable, time_period\n",
    "                ).values\n",
    "                variable_data[variable] = np.concatenate(\n",
    "                    [variable_data[variable], chunk_values]\n",
    "                )\n",
    "\n",
    "        for variable, time_period in VARIABLES:\n",
    "            sim.set_input(variable, time_period, variable_data[variable])\n",
    "\n",
    "    sim.calculate(\"household_net_income\", 2025)\n",
    "\n",
    "    end = time()\n",
    "    print(f\"Time: {end - start}\")\n",
    "    return end - start"
   ]
  },
  {
   "cell_type": "code",
   "execution_count": 3,
   "metadata": {},
   "outputs": [
    {
     "name": "stdout",
     "output_type": "stream",
     "text": [
      "CHUNKS: 1\n",
      "Time: 18.444103002548218\n",
      "CHUNKS: 2\n"
     ]
    },
    {
     "name": "stderr",
     "output_type": "stream",
     "text": [
      "100%|██████████| 2/2 [00:15<00:00,  7.78s/it]\n"
     ]
    },
    {
     "name": "stdout",
     "output_type": "stream",
     "text": [
      "Time: 15.732024908065796\n",
      "CHUNKS: 3\n"
     ]
    },
    {
     "name": "stderr",
     "output_type": "stream",
     "text": [
      "100%|██████████| 3/3 [00:15<00:00,  5.12s/it]\n"
     ]
    },
    {
     "name": "stdout",
     "output_type": "stream",
     "text": [
      "Time: 15.487107038497925\n",
      "CHUNKS: 4\n"
     ]
    },
    {
     "name": "stderr",
     "output_type": "stream",
     "text": [
      "100%|██████████| 4/4 [00:15<00:00,  3.87s/it]\n"
     ]
    },
    {
     "name": "stdout",
     "output_type": "stream",
     "text": [
      "Time: 15.63786792755127\n",
      "CHUNKS: 5\n"
     ]
    },
    {
     "name": "stderr",
     "output_type": "stream",
     "text": [
      "100%|██████████| 5/5 [00:15<00:00,  3.18s/it]\n"
     ]
    },
    {
     "name": "stdout",
     "output_type": "stream",
     "text": [
      "Time: 16.04463005065918\n",
      "CHUNKS: 10\n"
     ]
    },
    {
     "name": "stderr",
     "output_type": "stream",
     "text": [
      "100%|██████████| 10/10 [00:18<00:00,  1.83s/it]"
     ]
    },
    {
     "name": "stdout",
     "output_type": "stream",
     "text": [
      "Time: 18.4305682182312\n"
     ]
    },
    {
     "name": "stderr",
     "output_type": "stream",
     "text": [
      "\n"
     ]
    }
   ],
   "source": [
    "chunk_tests = [1, 2, 3, 4, 5, 10]\n",
    "times = [calc_chunks(i) for i in chunk_tests]"
   ]
  },
  {
   "cell_type": "code",
   "execution_count": 8,
   "metadata": {},
   "outputs": [
    {
     "data": {
      "text/html": [
       "<div>\n",
       "<style scoped>\n",
       "    .dataframe tbody tr th:only-of-type {\n",
       "        vertical-align: middle;\n",
       "    }\n",
       "\n",
       "    .dataframe tbody tr th {\n",
       "        vertical-align: top;\n",
       "    }\n",
       "\n",
       "    .dataframe thead th {\n",
       "        text-align: right;\n",
       "    }\n",
       "</style>\n",
       "<table border=\"1\" class=\"dataframe\">\n",
       "  <thead>\n",
       "    <tr style=\"text-align: right;\">\n",
       "      <th></th>\n",
       "      <th>Chunks</th>\n",
       "      <th>Time</th>\n",
       "    </tr>\n",
       "  </thead>\n",
       "  <tbody>\n",
       "    <tr>\n",
       "      <th>0</th>\n",
       "      <td>1</td>\n",
       "      <td>18.4</td>\n",
       "    </tr>\n",
       "    <tr>\n",
       "      <th>1</th>\n",
       "      <td>2</td>\n",
       "      <td>15.7</td>\n",
       "    </tr>\n",
       "    <tr>\n",
       "      <th>2</th>\n",
       "      <td>3</td>\n",
       "      <td>15.5</td>\n",
       "    </tr>\n",
       "    <tr>\n",
       "      <th>3</th>\n",
       "      <td>4</td>\n",
       "      <td>15.6</td>\n",
       "    </tr>\n",
       "    <tr>\n",
       "      <th>4</th>\n",
       "      <td>5</td>\n",
       "      <td>16.0</td>\n",
       "    </tr>\n",
       "    <tr>\n",
       "      <th>5</th>\n",
       "      <td>10</td>\n",
       "      <td>18.4</td>\n",
       "    </tr>\n",
       "  </tbody>\n",
       "</table>\n",
       "</div>"
      ],
      "text/plain": [
       "   Chunks  Time\n",
       "0       1  18.4\n",
       "1       2  15.7\n",
       "2       3  15.5\n",
       "3       4  15.6\n",
       "4       5  16.0\n",
       "5      10  18.4"
      ]
     },
     "execution_count": 8,
     "metadata": {},
     "output_type": "execute_result"
    }
   ],
   "source": [
    "import pandas as pd\n",
    "\n",
    "df = pd.DataFrame({\"Chunks\": chunk_tests, \"Time\": times})\n",
    "df.round(1)"
   ]
  }
 ],
 "metadata": {
  "kernelspec": {
   "display_name": "base",
   "language": "python",
   "name": "python3"
  },
  "language_info": {
   "codemirror_mode": {
    "name": "ipython",
    "version": 3
   },
   "file_extension": ".py",
   "mimetype": "text/x-python",
   "name": "python",
   "nbconvert_exporter": "python",
   "pygments_lexer": "ipython3",
   "version": "3.10.14"
  }
 },
 "nbformat": 4,
 "nbformat_minor": 2
}
